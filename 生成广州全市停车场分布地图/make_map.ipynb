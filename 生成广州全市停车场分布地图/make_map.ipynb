{
 "cells": [
  {
   "cell_type": "code",
   "execution_count": 9,
   "metadata": {},
   "outputs": [],
   "source": [
    "import pandas as pd\n",
    "data=pd.read_csv('tingchechang.csv',encoding='gbk')"
   ]
  },
  {
   "cell_type": "code",
   "execution_count": 10,
   "metadata": {},
   "outputs": [
    {
     "data": {
      "text/html": [
       "<div>\n",
       "<style scoped>\n",
       "    .dataframe tbody tr th:only-of-type {\n",
       "        vertical-align: middle;\n",
       "    }\n",
       "\n",
       "    .dataframe tbody tr th {\n",
       "        vertical-align: top;\n",
       "    }\n",
       "\n",
       "    .dataframe thead th {\n",
       "        text-align: right;\n",
       "    }\n",
       "</style>\n",
       "<table border=\"1\" class=\"dataframe\">\n",
       "  <thead>\n",
       "    <tr style=\"text-align: right;\">\n",
       "      <th></th>\n",
       "      <th>name</th>\n",
       "      <th>lat</th>\n",
       "      <th>lon</th>\n",
       "    </tr>\n",
       "  </thead>\n",
       "  <tbody>\n",
       "    <tr>\n",
       "      <th>0</th>\n",
       "      <td>广州锦日物业服务有限公司逸彩新世界T1停车场</td>\n",
       "      <td>23.116069</td>\n",
       "      <td>113.214642</td>\n",
       "    </tr>\n",
       "    <tr>\n",
       "      <th>1</th>\n",
       "      <td>10-12号宿舍停车场</td>\n",
       "      <td>23.165535</td>\n",
       "      <td>113.249795</td>\n",
       "    </tr>\n",
       "    <tr>\n",
       "      <th>2</th>\n",
       "      <td>广州市海珠区琶洲街道社区服务中心（110届广交会临时露天停车场）</td>\n",
       "      <td>23.099786</td>\n",
       "      <td>113.348994</td>\n",
       "    </tr>\n",
       "    <tr>\n",
       "      <th>3</th>\n",
       "      <td>350停车场</td>\n",
       "      <td>23.184649</td>\n",
       "      <td>113.356826</td>\n",
       "    </tr>\n",
       "    <tr>\n",
       "      <th>4</th>\n",
       "      <td>AEC汽车城露天停车场</td>\n",
       "      <td>23.106931</td>\n",
       "      <td>113.406072</td>\n",
       "    </tr>\n",
       "  </tbody>\n",
       "</table>\n",
       "</div>"
      ],
      "text/plain": [
       "                               name        lat         lon\n",
       "0            广州锦日物业服务有限公司逸彩新世界T1停车场  23.116069  113.214642\n",
       "1                       10-12号宿舍停车场  23.165535  113.249795\n",
       "2  广州市海珠区琶洲街道社区服务中心（110届广交会临时露天停车场）  23.099786  113.348994\n",
       "3                            350停车场  23.184649  113.356826\n",
       "4                       AEC汽车城露天停车场  23.106931  113.406072"
      ]
     },
     "execution_count": 10,
     "metadata": {},
     "output_type": "execute_result"
    }
   ],
   "source": [
    "data.head(5)"
   ]
  },
  {
   "cell_type": "code",
   "execution_count": 11,
   "metadata": {},
   "outputs": [],
   "source": [
    "import folium\n",
    "from folium import plugins\n",
    "park_map = folium.Map(location=[data['lat'].mean(), data['lon'].mean()], zoom_start=10,control_scale=True,)\n",
    "incidents = folium.map.FeatureGroup()\n",
    "for name,row in data.iterrows():\n",
    "    incidents.add_child(\n",
    "        folium.CircleMarker(            #CircleMarker表示花圆\n",
    "            [row['lat'], row['lon']],   #每个停车场的坐标\n",
    "            radius=7,                   #圆圈半径\n",
    "            color='yellow',             #标志的外圈颜色\n",
    "            fill=True,                  #是否填充\n",
    "            fill_color='red',           #填充颜色\n",
    "            fill_opacity=0.4            #填充透明度\n",
    "        )\n",
    "    )\n",
    "\n",
    "park_map.add_child(incidents)\n",
    "park_map.save('park_map1.html')"
   ]
  },
  {
   "cell_type": "code",
   "execution_count": 12,
   "metadata": {},
   "outputs": [],
   "source": [
    "import folium\n",
    "from folium import plugins\n",
    "park_map = folium.Map(location=[data['lat'].mean(), data['lon'].mean()], zoom_start=10,control_scale=True,)\n",
    "marker_cluster = plugins.MarkerCluster().add_to(park_map) \n",
    "for name,row in data.iterrows():\n",
    "    folium.Marker(location=[row[\"lat\"], row[\"lon\"]]).add_to(marker_cluster)   \n",
    "park_map.save('park_map2.html')"
   ]
  },
  {
   "cell_type": "code",
   "execution_count": null,
   "metadata": {},
   "outputs": [],
   "source": []
  }
 ],
 "metadata": {
  "kernelspec": {
   "display_name": "Python 3",
   "language": "python",
   "name": "python3"
  },
  "language_info": {
   "codemirror_mode": {
    "name": "ipython",
    "version": 3
   },
   "file_extension": ".py",
   "mimetype": "text/x-python",
   "name": "python",
   "nbconvert_exporter": "python",
   "pygments_lexer": "ipython3",
   "version": "3.6.5"
  }
 },
 "nbformat": 4,
 "nbformat_minor": 4
}
